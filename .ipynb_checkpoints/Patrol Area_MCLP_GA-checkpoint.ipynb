{
 "cells": [
  {
   "cell_type": "markdown",
   "metadata": {
    "jupyter": {
     "outputs_hidden": false
    },
    "pycharm": {
     "name": "#%% md\n"
    }
   },
   "source": [
    "## Genetic Algorithm(GA) Approach to Police Patrol Sector Configuration Optimization "
   ]
  },
  {
   "cell_type": "code",
   "execution_count": 1,
   "metadata": {
    "jupyter": {
     "outputs_hidden": false
    },
    "pycharm": {
     "name": "#%%\n"
    }
   },
   "outputs": [],
   "source": [
    "from Algorithm.GA import display_points_with_mclp, GeneticAlgorithm\n",
    "import random\n",
    "import numpy as np\n",
    "from matplotlib import pyplot as plt"
   ]
  },
  {
   "cell_type": "markdown",
   "metadata": {
    "pycharm": {
     "name": "#%% md\n"
    }
   },
   "source": [
    "## Load the datasets"
   ]
  },
  {
   "cell_type": "code",
   "execution_count": 2,
   "metadata": {
    "pycharm": {
     "name": "#%%\n"
    }
   },
   "outputs": [],
   "source": [
    "import geopandas as gpd\n",
    "import pandas as pd\n",
    "import numpy as np\n",
    "import matplotlib.pyplot as plt"
   ]
  },
  {
   "cell_type": "markdown",
   "metadata": {
    "pycharm": {
     "name": "#%% md\n"
    }
   },
   "source": [
    "### Crime Forecast Data \n",
    "The crime forecast data is preprocessed. Each point in this dataset represents the number of crimes at the center point of the corresponding grid cell."
   ]
  },
  {
   "cell_type": "code",
   "execution_count": 3,
   "metadata": {
    "pycharm": {
     "name": "#%%\n"
    }
   },
   "outputs": [
    {
     "name": "stdout",
     "output_type": "stream",
     "text": [
      "Wall time: 523 ms\n"
     ]
    },
    {
     "data": {
      "text/html": [
       "<div>\n",
       "<style scoped>\n",
       "    .dataframe tbody tr th:only-of-type {\n",
       "        vertical-align: middle;\n",
       "    }\n",
       "\n",
       "    .dataframe tbody tr th {\n",
       "        vertical-align: top;\n",
       "    }\n",
       "\n",
       "    .dataframe thead th {\n",
       "        text-align: right;\n",
       "    }\n",
       "</style>\n",
       "<table border=\"1\" class=\"dataframe\">\n",
       "  <thead>\n",
       "    <tr style=\"text-align: right;\">\n",
       "      <th></th>\n",
       "      <th>study_area</th>\n",
       "      <th>Areasum_OB</th>\n",
       "      <th>Areasum_FI</th>\n",
       "      <th>Areasum_CO</th>\n",
       "      <th>Areasum_AR</th>\n",
       "      <th>Areasum_SU</th>\n",
       "      <th>POINT_X</th>\n",
       "      <th>POINT_Y</th>\n",
       "      <th>OID_1</th>\n",
       "      <th>crime_dens</th>\n",
       "      <th>area_stand</th>\n",
       "      <th>资源分</th>\n",
       "      <th>demand</th>\n",
       "      <th>geometry</th>\n",
       "    </tr>\n",
       "  </thead>\n",
       "  <tbody>\n",
       "    <tr>\n",
       "      <th>0</th>\n",
       "      <td>615</td>\n",
       "      <td>1</td>\n",
       "      <td>0</td>\n",
       "      <td>4867.0</td>\n",
       "      <td>4.379672e+06</td>\n",
       "      <td>390227.811455</td>\n",
       "      <td>377212.4717</td>\n",
       "      <td>3.777003e+06</td>\n",
       "      <td>0</td>\n",
       "      <td>0.089100</td>\n",
       "      <td>0.000214</td>\n",
       "      <td>5.026676e-01</td>\n",
       "      <td>2.971355</td>\n",
       "      <td>POINT (377212.472 3777002.559)</td>\n",
       "    </tr>\n",
       "    <tr>\n",
       "      <th>1</th>\n",
       "      <td>627</td>\n",
       "      <td>2</td>\n",
       "      <td>1</td>\n",
       "      <td>2135.0</td>\n",
       "      <td>1.921225e+06</td>\n",
       "      <td>173010.082994</td>\n",
       "      <td>378448.2150</td>\n",
       "      <td>3.776547e+06</td>\n",
       "      <td>1</td>\n",
       "      <td>0.090052</td>\n",
       "      <td>0.000217</td>\n",
       "      <td>1.172094e-01</td>\n",
       "      <td>3.817018</td>\n",
       "      <td>POINT (378448.215 3776546.632)</td>\n",
       "    </tr>\n",
       "    <tr>\n",
       "      <th>2</th>\n",
       "      <td>802</td>\n",
       "      <td>3</td>\n",
       "      <td>2</td>\n",
       "      <td>25244.0</td>\n",
       "      <td>2.271634e+07</td>\n",
       "      <td>132964.743385</td>\n",
       "      <td>358618.4533</td>\n",
       "      <td>3.773076e+06</td>\n",
       "      <td>2</td>\n",
       "      <td>0.005853</td>\n",
       "      <td>0.000014</td>\n",
       "      <td>7.283678e-03</td>\n",
       "      <td>7.450366</td>\n",
       "      <td>POINT (358618.453 3773076.135)</td>\n",
       "    </tr>\n",
       "    <tr>\n",
       "      <th>3</th>\n",
       "      <td>804</td>\n",
       "      <td>4</td>\n",
       "      <td>3</td>\n",
       "      <td>14680.0</td>\n",
       "      <td>1.321011e+07</td>\n",
       "      <td>-23801.545882</td>\n",
       "      <td>362415.6836</td>\n",
       "      <td>3.774609e+06</td>\n",
       "      <td>3</td>\n",
       "      <td>-0.001802</td>\n",
       "      <td>-0.000004</td>\n",
       "      <td>1.730000e-09</td>\n",
       "      <td>1.532554</td>\n",
       "      <td>POINT (362415.684 3774609.215)</td>\n",
       "    </tr>\n",
       "    <tr>\n",
       "      <th>4</th>\n",
       "      <td>803</td>\n",
       "      <td>5</td>\n",
       "      <td>4</td>\n",
       "      <td>15997.0</td>\n",
       "      <td>1.439524e+07</td>\n",
       "      <td>21796.487660</td>\n",
       "      <td>360598.4202</td>\n",
       "      <td>3.773705e+06</td>\n",
       "      <td>4</td>\n",
       "      <td>0.001514</td>\n",
       "      <td>0.000004</td>\n",
       "      <td>1.618738e-03</td>\n",
       "      <td>9.731423</td>\n",
       "      <td>POINT (360598.420 3773705.152)</td>\n",
       "    </tr>\n",
       "  </tbody>\n",
       "</table>\n",
       "</div>"
      ],
      "text/plain": [
       "   study_area  Areasum_OB  Areasum_FI  Areasum_CO    Areasum_AR  \\\n",
       "0         615           1           0      4867.0  4.379672e+06   \n",
       "1         627           2           1      2135.0  1.921225e+06   \n",
       "2         802           3           2     25244.0  2.271634e+07   \n",
       "3         804           4           3     14680.0  1.321011e+07   \n",
       "4         803           5           4     15997.0  1.439524e+07   \n",
       "\n",
       "      Areasum_SU      POINT_X       POINT_Y  OID_1  crime_dens  area_stand  \\\n",
       "0  390227.811455  377212.4717  3.777003e+06      0    0.089100    0.000214   \n",
       "1  173010.082994  378448.2150  3.776547e+06      1    0.090052    0.000217   \n",
       "2  132964.743385  358618.4533  3.773076e+06      2    0.005853    0.000014   \n",
       "3  -23801.545882  362415.6836  3.774609e+06      3   -0.001802   -0.000004   \n",
       "4   21796.487660  360598.4202  3.773705e+06      4    0.001514    0.000004   \n",
       "\n",
       "            资源分    demand                        geometry  \n",
       "0  5.026676e-01  2.971355  POINT (377212.472 3777002.559)  \n",
       "1  1.172094e-01  3.817018  POINT (378448.215 3776546.632)  \n",
       "2  7.283678e-03  7.450366  POINT (358618.453 3773076.135)  \n",
       "3  1.730000e-09  1.532554  POINT (362415.684 3774609.215)  \n",
       "4  1.618738e-03  9.731423  POINT (360598.420 3773705.152)  "
      ]
     },
     "execution_count": 3,
     "metadata": {},
     "output_type": "execute_result"
    }
   ],
   "source": [
    "%%time\n",
    "ls = gpd.read_file(r\".\\data\\需求点与候选点\\demand4.shp\")\n",
    "ls['POINT_X'] = ls.geometry.x\n",
    "ls['POINT_Y'] = ls.geometry.y\n",
    "ls.head()"
   ]
  },
  {
   "cell_type": "code",
   "execution_count": 4,
   "metadata": {
    "jupyter": {
     "outputs_hidden": false
    },
    "pycharm": {
     "name": "#%%\n"
    }
   },
   "outputs": [],
   "source": [
    "def normalize_to_1_10(data):\n",
    "    \"\"\"\n",
    "    将一组数据归一化到1-10\n",
    "    \"\"\"\n",
    "    min_val = min(data)\n",
    "    max_val = max(data)\n",
    "    normalized_data = [(x - min_val) / (max_val - min_val) * 9 + 1 for x in data]\n",
    "    return normalized_data\n",
    "# times -1 for maximizing the sum"
   ]
  },
  {
   "cell_type": "code",
   "execution_count": 5,
   "metadata": {
    "pycharm": {
     "name": "#%%\n"
    }
   },
   "outputs": [
    {
     "name": "stdout",
     "output_type": "stream",
     "text": [
      "The number of Patrol Area in Seattle area is  139\n"
     ]
    },
    {
     "data": {
      "text/html": [
       "<div>\n",
       "<style scoped>\n",
       "    .dataframe tbody tr th:only-of-type {\n",
       "        vertical-align: middle;\n",
       "    }\n",
       "\n",
       "    .dataframe tbody tr th {\n",
       "        vertical-align: top;\n",
       "    }\n",
       "\n",
       "    .dataframe thead th {\n",
       "        text-align: right;\n",
       "    }\n",
       "</style>\n",
       "<table border=\"1\" class=\"dataframe\">\n",
       "  <thead>\n",
       "    <tr style=\"text-align: right;\">\n",
       "      <th></th>\n",
       "      <th>Node</th>\n",
       "      <th>Degree</th>\n",
       "      <th>Betweennes</th>\n",
       "      <th>Closeness</th>\n",
       "      <th>longitude</th>\n",
       "      <th>latitude</th>\n",
       "      <th>DBC</th>\n",
       "      <th>POINT_X</th>\n",
       "      <th>POINT_Y</th>\n",
       "      <th>geometry</th>\n",
       "    </tr>\n",
       "  </thead>\n",
       "  <tbody>\n",
       "    <tr>\n",
       "      <th>0</th>\n",
       "      <td>3</td>\n",
       "      <td>0.236364</td>\n",
       "      <td>0.020977</td>\n",
       "      <td>0.799365</td>\n",
       "      <td>368894.8979</td>\n",
       "      <td>3766424.227</td>\n",
       "      <td>0.394794</td>\n",
       "      <td>368894.8979</td>\n",
       "      <td>3766424.227</td>\n",
       "      <td>POINT (368894.898 3766424.227)</td>\n",
       "    </tr>\n",
       "    <tr>\n",
       "      <th>1</th>\n",
       "      <td>63</td>\n",
       "      <td>0.436364</td>\n",
       "      <td>0.005304</td>\n",
       "      <td>0.341544</td>\n",
       "      <td>370846.9308</td>\n",
       "      <td>3756884.212</td>\n",
       "      <td>0.344304</td>\n",
       "      <td>370846.9308</td>\n",
       "      <td>3756884.212</td>\n",
       "      <td>POINT (370846.931 3756884.212)</td>\n",
       "    </tr>\n",
       "    <tr>\n",
       "      <th>2</th>\n",
       "      <td>88</td>\n",
       "      <td>0.236364</td>\n",
       "      <td>0.012423</td>\n",
       "      <td>0.668682</td>\n",
       "      <td>390826.3913</td>\n",
       "      <td>3775551.236</td>\n",
       "      <td>0.342647</td>\n",
       "      <td>390826.3913</td>\n",
       "      <td>3775551.236</td>\n",
       "      <td>POINT (390826.391 3775551.236)</td>\n",
       "    </tr>\n",
       "  </tbody>\n",
       "</table>\n",
       "</div>"
      ],
      "text/plain": [
       "   Node    Degree  Betweennes  Closeness    longitude     latitude       DBC  \\\n",
       "0     3  0.236364    0.020977   0.799365  368894.8979  3766424.227  0.394794   \n",
       "1    63  0.436364    0.005304   0.341544  370846.9308  3756884.212  0.344304   \n",
       "2    88  0.236364    0.012423   0.668682  390826.3913  3775551.236  0.342647   \n",
       "\n",
       "       POINT_X      POINT_Y                        geometry  \n",
       "0  368894.8979  3766424.227  POINT (368894.898 3766424.227)  \n",
       "1  370846.9308  3756884.212  POINT (370846.931 3756884.212)  \n",
       "2  390826.3913  3775551.236  POINT (390826.391 3775551.236)  "
      ]
     },
     "execution_count": 5,
     "metadata": {},
     "output_type": "execute_result"
    }
   ],
   "source": [
    "sitedf = gpd.read_file(r\".\\data\\需求点与候选点\\degree_site.shp\")\n",
    "# sites = np.array(sitedf[['NORM_X', 'NORM_Y']], dtype=np.float64)\n",
    "print(\"The number of Patrol Area in Seattle area is \", len(sitedf))\n",
    "sitedf.head(3)"
   ]
  },
  {
   "cell_type": "code",
   "execution_count": 6,
   "metadata": {},
   "outputs": [],
   "source": [
    "# road_net = gpd.read_file(\"./data/需求点与候选点/road1.shp\")\n",
    "# road_net.head(3)"
   ]
  },
  {
   "cell_type": "code",
   "execution_count": 7,
   "metadata": {},
   "outputs": [],
   "source": [
    "# fig, ax = plt.subplots(figsize=(10, 10))\n",
    "# ax.scatter(sitedf['POINT_X'], sitedf['POINT_Y'], c='C1', s=10, label = 'Billboards')\n",
    "# ax.axis('equal')\n",
    "# road_net.plot(ax=ax, color='#82b0d2', edgecolor='gray', linewidth=0.5)"
   ]
  },
  {
   "cell_type": "markdown",
   "metadata": {
    "pycharm": {
     "name": "#%% md\n"
    }
   },
   "source": [
    "## Normalization"
   ]
  },
  {
   "cell_type": "code",
   "execution_count": 8,
   "metadata": {
    "pycharm": {
     "name": "#%%\n"
    }
   },
   "outputs": [],
   "source": [
    "def Normalization(x, y):\n",
    "    max_x, max_y = np.max(x), np.max(y)\n",
    "    min_x, min_y = np.min(x), np.min(y)\n",
    "    S_x = (max_x-min_x)\n",
    "    S_y = (max_y-min_y)\n",
    "    S = max(S_x, S_y)\n",
    "    new_x, new_y = (x-min_x)/S, (y-min_y)/S\n",
    "    data_xy = np.vstack((new_x, new_y))\n",
    "    Data = data_xy.T\n",
    "    return new_x, new_y, S"
   ]
  },
  {
   "cell_type": "code",
   "execution_count": 9,
   "metadata": {
    "pycharm": {
     "name": "#%%\n"
    }
   },
   "outputs": [],
   "source": [
    "ls_X = np.array(ls['POINT_X'])\n",
    "ls_Y = np.array(ls['POINT_Y'])\n",
    "bbs_X = np.array(sitedf['POINT_X'])\n",
    "bbs_Y = np.array(sitedf['POINT_Y'])\n",
    "X = np.concatenate([ls_X, bbs_X])\n",
    "Y = np.concatenate([ls_Y, bbs_Y])\n",
    "NORM_X, NORM_Y, S = Normalization(X, Y)\n",
    "ls['NORM_X'] = NORM_X[:len(ls)]\n",
    "ls['NORM_Y'] = NORM_Y[:len(ls)]\n",
    "sitedf['NORM_X'] = NORM_X[len(ls):]\n",
    "sitedf['NORM_Y'] = NORM_Y[len(ls):]"
   ]
  },
  {
   "cell_type": "code",
   "execution_count": 10,
   "metadata": {
    "pycharm": {
     "name": "#%%\n"
    }
   },
   "outputs": [],
   "source": [
    "def generate_candidate_sites(sites, M=100, heuristic = None):\n",
    "    '''\n",
    "    Generate M candidate sites with the convex hull of a point set\n",
    "    Input:\n",
    "        sites: a Pandas DataFrame with X, Y and other characteristic\n",
    "        M: the number of candidate sites to generate\n",
    "        heuristic:\n",
    "    Return:\n",
    "        sites: a Numpy array with shape of (M,2)\n",
    "    '''\n",
    "\n",
    "    if M is not None:\n",
    "        if M > len(sites):\n",
    "            M = None\n",
    "    if heuristic is None or heuristic == '':\n",
    "        if M is None:\n",
    "            return sites\n",
    "        np.random.seed(0)\n",
    "        index = np.random.choice(len(sites), M)\n",
    "        return sites.iloc[index]\n",
    "    elif heuristic == 'coverage':\n",
    "        sites = sites.sort_values(by='pop_covered_2km', ascending=False).reset_index()\n",
    "        if M is None:\n",
    "            return sites\n",
    "        return sites.iloc[:M]\n",
    "    elif heuristic == 'coverage_e':\n",
    "        sites = sites.sort_values(by='pop_covered_2km_exclusive', ascending=False).reset_index()\n",
    "        if M is None:\n",
    "            return sites\n",
    "        return sites.iloc[:M]\n",
    "    elif heuristic == 'impression':\n",
    "        sites = sites.sort_values(by='weeklyImpr', ascending=False).reset_index()\n",
    "        if M is None:\n",
    "            return sites\n",
    "        return sites.iloc[:M]\n",
    "    elif heuristic == 'impression_e':\n",
    "        sites = sites.sort_values(by='weeklyImpr_2km_exclusive', ascending=False).reset_index()\n",
    "        if M is None:\n",
    "            return sites\n",
    "        return sites.iloc[:M]"
   ]
  },
  {
   "cell_type": "code",
   "execution_count": 11,
   "metadata": {
    "pycharm": {
     "name": "#%%\n"
    },
    "scrolled": true
   },
   "outputs": [],
   "source": [
    "bbs_ = generate_candidate_sites(sitedf, M=None, heuristic=\"\")"
   ]
  },
  {
   "cell_type": "code",
   "execution_count": 12,
   "metadata": {
    "pycharm": {
     "name": "#%%\n"
    }
   },
   "outputs": [],
   "source": [
    "users = np.array(ls[['NORM_X', 'NORM_Y']])\n",
    "facilities = np.array(bbs_[['NORM_X', 'NORM_Y']])\n",
    "demand = np.array(ls['demand'])\n",
    "p =40\n",
    "real_radius = 1000\n",
    "radius = real_radius/S\n",
    "\n",
    "dist = np.sum((facilities[:, np.newaxis, :] - users[np.newaxis, :, :]) ** 2, axis=-1) ** 0.5\n",
    "A = np.sum((facilities[:, np.newaxis, :] - users[np.newaxis, :, :]) ** 2, axis=-1) ** 0.5\n",
    "mask1 = A <= radius\n",
    "A[mask1] = 1\n",
    "A[~mask1] = 0"
   ]
  },
  {
   "cell_type": "code",
   "execution_count": 18,
   "metadata": {
    "pycharm": {
     "name": "#%%\n"
    },
    "scrolled": true
   },
   "outputs": [
    {
     "name": "stdout",
     "output_type": "stream",
     "text": [
      "Current top solution: [74, 122, 125, 100, 112, 6, 56, 51, 94, 27, 9, 70, 90, 117, 34, 64, 30, 99, 114, 59, 138, 88, 102, 50, 28, 8, 108, 25, 15, 116, 43, 109, 24, 89, 38, 66, 78, 81, 63, 26] f=4366\n",
      "\n",
      "Final top solution: [116, 108, 80, 35, 38, 15, 55, 86, 34, 89, 117, 3, 72, 51, 49, 59, 115, 102, 2, 62, 11, 122, 104, 53, 92, 60, 131, 129, 36, 4, 25, 75, 99, 8, 105, 0, 71, 48, 84, 135] f=3972\n",
      "Time: 00:00:1.9706\n",
      "Best fitness: 3972.82251458\n",
      "The Set of centers are: [116, 108, 80, 35, 38, 15, 55, 86, 34, 89, 117, 3, 72, 51, 49, 59, 115, 102, 2, 62, 11, 122, 104, 53, 92, 60, 131, 129, 36, 4, 25, 75, 99, 8, 105, 0, 71, 48, 84, 135]\n"
     ]
    }
   ],
   "source": [
    "genetic = GeneticAlgorithm(len(ls), len(bbs_), p, dist, radius, demand)\n",
    "genetic.optimize()\n",
    "obj = np.sum(demand) - genetic.top_chromosome.fitness\n",
    "centers = genetic.top_chromosome.content\n",
    "print(\"Best fitness:\", genetic.top_chromosome.fitness)\n",
    "print(\"The Set of centers are: %s\" % centers)\n",
    "#print(\"The objective is: %s\" % str(round(obj)))\n",
    "#print(\"Sum of demand:\", np.sum(demand))"
   ]
  },
  {
   "cell_type": "code",
   "execution_count": 19,
   "metadata": {
    "pycharm": {
     "name": "#%%\n"
    }
   },
   "outputs": [],
   "source": [
    "def plot_result(ls, opt_sites, radius):\n",
    "    '''\n",
    "    Plot the result\n",
    "    Input:\n",
    "        points: input points, Numpy array in shape of [N,2]\n",
    "        opt_sites: locations K optimal sites, Pandas DataFrame\n",
    "        radius: the radius of circle\n",
    "    '''\n",
    "    fig, ax = plt.subplots(figsize=(20, 12))\n",
    "   # ls.plot(ax=ax, column=ls['demand'], k=5, markersize=5, cmap='Blues', label='Demand Points')\n",
    "    ax.scatter(sitedf['POINT_X'], sitedf['POINT_Y'], c='C1', s=10, label = 'Patrol Area')\n",
    "#     road_net.plot(ax=ax, color='#82b0d2', edgecolor='gray', linewidth=0.5)\n",
    "    legend_plot_flag = {'current': False, 'selected': False}\n",
    "\n",
    "    for cnt, site in opt_sites.iterrows():\n",
    "        if 'current' in opt_sites.columns and site['current'] == True:  #ncurrent\n",
    "            if legend_plot_flag['current'] == False:\n",
    "                ax.scatter(site['POINT_X'], site['POINT_Y'], c='red', marker='+', s=10, label='Current Points')\n",
    "                circlelabel = 'Service Range for Current Points'\n",
    "                legend_plot_flag['current'] = True\n",
    "            ax.scatter(site['POINT_X'], site['POINT_Y'], c='red', marker='+', s=100)\n",
    "            #             circle = plt.Circle(site[['POINT_X','POINT_Y']], radius, color='red', fill=False, lw=2, label = circlelabel)\n",
    "            circle = plt.Circle(site[['POINT_X', 'POINT_Y']], radius, color='red', fill=False, lw=2)\n",
    "\n",
    "            ax.add_artist(circle)\n",
    "        else:\n",
    "            if legend_plot_flag['selected'] == False:\n",
    "                ax.scatter(site['POINT_X'], site['POINT_Y'], c='C1', marker='+', s=10,\n",
    "                           label='Optimized Selected Points')\n",
    "                circlelabel = 'Service Range for Optimized Selected Points'\n",
    "                legend_plot_flag['selected'] = True\n",
    "            ax.scatter(site['POINT_X'], site['POINT_Y'], c='C1', marker='+', s=100)\n",
    "            #             circle = plt.Circle(site[['POINT_X','POINT_Y']], radius, color='C1', fill=False, lw=2, label = circlelabel)\n",
    "            circle = plt.Circle(site[['POINT_X', 'POINT_Y']], radius, color='C1', fill=False, lw=2)\n",
    "            ax.add_artist(circle)\n",
    "\n",
    "    ax.axis('scaled')\n",
    "    ax.tick_params(axis='both', left=False, top=False, right=False,\n",
    "                   bottom=False, labelleft=False, labeltop=False,\n",
    "                   labelright=False, labelbottom=False)\n",
    "    title = 'Selected ' + str(len(opt_sites)) + ' Sites that Serve ' + str(radius) + ' m'\n",
    "    ax.set_title(title, fontsize=20)\n",
    "    render_scale_bar(ax=ax, x=0.05, y=0.05)\n",
    "    render_north_arrow(ax=ax, x=0.95, y=0.95, size=0.01, ratio=0.7)\n",
    "    ax.legend(loc='lower right', markerscale=2)\n",
    "    return ax"
   ]
  },
  {
   "cell_type": "code",
   "execution_count": 20,
   "metadata": {
    "pycharm": {
     "name": "#%%\n"
    }
   },
   "outputs": [],
   "source": [
    "def render_scale_bar(ax, x, y, segments=2, height=0.01, seg_length=2000, unit='m', linewidth=1.):\n",
    "    unit_scale_factor = {\n",
    "        'm': 1,\n",
    "        'km': 1000,\n",
    "        'meters': 1,\n",
    "        'kilometers': 1000,\n",
    "        'miles': 1609.34,\n",
    "        'mi': 1609.34,\n",
    "        'ft': 0.3,\n",
    "        }\n",
    "    x_lim = ax.get_xlim()\n",
    "    y_lim = ax.get_ylim()\n",
    "\n",
    "    # how much percent does one unit takes on the x axis\n",
    "    x_per_unit = 1. / (x_lim[1] - x_lim[0])\n",
    "    y_per_unit = 1. / (y_lim[1] - y_lim[0])\n",
    "\n",
    "    # base for ticks (0, 1)\n",
    "    x_base = [x + seg_length * unit_scale_factor[unit] * x_per_unit * i for i in range(0, segments + 1)]\n",
    "    ax.axhline(y_lim[0] + y / y_per_unit, x_base[0], x_base[-1], c='black')\n",
    "    y_base = [y, y + height]\n",
    "    for i in range(segments + 1):\n",
    "        ax.axvline(x_lim[0] + x_base[i] / x_per_unit, y, y + height, c='black')\n",
    "        xy = (x_lim[0] + x_base[i] / x_per_unit, y_lim[0] + (y - 0.015) / y_per_unit)  # data_coords\n",
    "        ax.text(xy[0], xy[1], s='{}'.format(int(seg_length * i)), horizontalalignment='center', verticalalignment='center')\n",
    "    ax.text(x_lim[0] + (x_base[-1] + 0.02) / x_per_unit, y_lim[0] + (y - 0.015) / y_per_unit,\n",
    "            s=unit, horizontalalignment='left',\n",
    "            verticalalignment='center')\n",
    "def render_north_arrow(ax, x, y, size, ratio = 1):\n",
    "    path = [(0, 1), (-ratio, -1), (0, -0.5), (ratio, -1), (0, 1)]\n",
    "    path = [(i[0] * size + x, i[1] * size + y) for i in path]\n",
    "    arrow = plt.Polygon(path, color='black', transform=ax.transAxes)\n",
    "    ax.add_patch(arrow)\n",
    "    ax.text(x, y-size*2, s = 'N', horizontalalignment='center', verticalalignment='center', transform=ax.transAxes)"
   ]
  },
  {
   "cell_type": "code",
   "execution_count": 21,
   "metadata": {
    "pycharm": {
     "name": "#%%\n"
    }
   },
   "outputs": [
    {
     "data": {
      "text/plain": [
       "<AxesSubplot:title={'center':'Selected 40 Sites that Serve 1000 m'}>"
      ]
     },
     "execution_count": 21,
     "metadata": {},
     "output_type": "execute_result"
    },
    {
     "data": {
      "image/png": "[encoded data removed]",
      "text/plain": [
       "<Figure size 2000x1200 with 1 Axes>"
      ]
     },
     "metadata": {},
     "output_type": "display_data"
    }
   ],
   "source": [
    "opt_sites = bbs_.iloc[centers]\n",
    "plot_result(ls,opt_sites,1000)"
   ]
  },
  {
   "cell_type": "code",
   "execution_count": null,
   "metadata": {
    "pycharm": {
     "is_executing": true,
     "name": "#%%\n"
    }
   },
   "outputs": [],
   "source": []
  },
  {
   "cell_type": "code",
   "execution_count": null,
   "metadata": {},
   "outputs": [],
   "source": []
  },
  {
   "cell_type": "code",
   "execution_count": null,
   "metadata": {},
   "outputs": [],
   "source": []
  },
  {
   "cell_type": "code",
   "execution_count": null,
   "metadata": {},
   "outputs": [],
   "source": []
  },
  {
   "cell_type": "code",
   "execution_count": null,
   "metadata": {},
   "outputs": [],
   "source": []
  }
 ],
 "metadata": {
  "kernelspec": {
   "display_name": "Python 3 (ipykernel)",
   "language": "python",
   "name": "python3"
  },
  "language_info": {
   "codemirror_mode": {
    "name": "ipython",
    "version": 3
   },
   "file_extension": ".py",
   "mimetype": "text/x-python",
   "name": "python",
   "nbconvert_exporter": "python",
   "pygments_lexer": "ipython3",
   "version": "3.7.12"
  },
  "toc": {
   "base_numbering": 1,
   "nav_menu": {},
   "number_sections": true,
   "sideBar": true,
   "skip_h1_title": false,
   "title_cell": "Table of Contents",
   "title_sidebar": "Contents",
   "toc_cell": false,
   "toc_position": {},
   "toc_section_display": true,
   "toc_window_display": false
  }
 },
 "nbformat": 4,
 "nbformat_minor": 4
}
